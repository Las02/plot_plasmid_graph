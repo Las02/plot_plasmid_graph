{
 "cells": [
  {
   "cell_type": "code",
   "execution_count": 72,
   "metadata": {},
   "outputs": [],
   "source": [
    "import pandas as pd\n",
    "import numpy as np\n",
    "\n",
    "######## READING IN THE DATA ########\n",
    "\n",
    "# The needed files are as follows \n",
    "blast_output = \"./filtered_fasta_blastout.txx\"\n",
    "metadata_plsdb = \"./plsdb.tsv\"\n",
    "clusterfile = \"./vae_clusters_within_radius_with_looners_complete_unsplit_candidate_plasmids.tsv\" \n",
    "\n",
    "# On ESRUM they are located as follows:\n",
    "# blast_output = \"/maps/projects/rasmussen/scratch/ptracker/plasmid_graph/filtered_fasta_blastout.txx\"\n",
    "# metadata_plsdb = \"/maps/projects/rasmussen/scratch/ptracker/plasmid_graph/data/PLSDB/plsdb.tsv\"\n",
    "# clusterfile = \"/maps/projects/rasmussen/scratch/ptracker/plasmid_graph/data/vae_clusters_within_radius_with_looners_complete_unsplit_candidate_plasmids.tsv\" \n",
    "\n",
    "# Read in the blast output \n",
    "df = pd.read_table(blast_output, sep=\"\\t\", header=None)\n",
    "# link to output format: https://www.metagenomics.wiki/tools/blast/blastn-output-format-6\n",
    "headers = [\"qseqid\", \"sseqid\", \"pident\", \"length\", \"mismatch\", \"gapopen\", \"qstart\", \"qend\", \"sstart\", \"send\", \"evalue\", \"bitscore\"]\n",
    "df.columns = headers\n",
    "\n",
    "# Getting metadata from PLSDB\n",
    "metadata = pd.read_table(metadata_plsdb, low_memory=False)\n",
    "df_metadata = df.merge(metadata, left_on=\"sseqid\", right_on= \"NUCCORE_ACC\")\n",
    "\n",
    "df_metadata[\"procent_coverage\"] = df_metadata.length / df_metadata.Length\n",
    "# apply Filter\n",
    "df_filtered = df_metadata.query(\"pident > 90 and procent_coverage > 0.3\")\n",
    "\n",
    "# Read in the plasmid clusters\n",
    "cluster_df = pd.read_table(clusterfile, sep=\"\\t\")                                             \n",
    "df_metadata_cluster = df_filtered.merge(cluster_df, left_on=\"qseqid\", right_on= \"contigname\")\n",
    "\n",
    "# Make it so each cluster is only one node\n",
    "df_metadata_cluster[\"realname\"] = df_metadata_cluster.qseqid\n",
    "df_metadata_cluster[\"qseqid\"] = df_metadata_cluster.groupby(\"clustername\")[[\"qseqid\"]].transform(\"first\")\n",
    "df_filtered = df_metadata_cluster"
   ]
  },
  {
   "cell_type": "code",
   "execution_count": 73,
   "metadata": {},
   "outputs": [
    {
     "data": {
      "text/plain": [
       "<matplotlib.collections.LineCollection at 0x7f60b433f860>"
      ]
     },
     "execution_count": 73,
     "metadata": {},
     "output_type": "execute_result"
    }
   ],
   "source": [
    "from matplotlib.pyplot import figure\n",
    "import matplotlib.pyplot as plt\n",
    "\n",
    "######## PLOTTING THE NETWORK ########\n",
    "# Adding the nodes which are from PLSDB\n",
    "# and format for networkx, which is the following:\n",
    "# (4, {\"color\": \"red\"}), (5, {\"color\": \"green\"})\n",
    "dic_for_graph = []\n",
    "for key, value_dic in df_filtered[[\"sseqid\", \"TAXONOMY_phylum\"]].to_dict(\"index\").items():\n",
    "    value_dic[\"color\"] = value_dic[\"TAXONOMY_phylum\"]\n",
    "    value_dic[\"alpha\"] = 1\n",
    "    value_dic[\"size\"] = 2\n",
    "    dic_for_graph.append((value_dic[\"sseqid\"],  value_dic))\n",
    "    \n",
    "# Adding the nodes to the graph\n",
    "import networkx as nx\n",
    "G = nx.Graph()\n",
    "G.add_nodes_from(dic_for_graph)\n",
    "\n",
    "## Adding the nodes from our data and adding a color specific to them\n",
    "toadd = {\"color\":\"black\", \"alpha\":0.8, \"size\": 8} \n",
    "nodes = [(x, toadd) for x in set(df_filtered[\"qseqid\"])] \n",
    "G.add_nodes_from(nodes)\n",
    "\n",
    "# Now adding the edges\n",
    "edge_list = []\n",
    "edge_color_list = []\n",
    "for key, value_dic in df_filtered[[\"qseqid\", \"sseqid\", \"TAXONOMY_phylum\"]].to_dict(\"index\").items():\n",
    "    G.add_edge(value_dic[\"qseqid\"], value_dic[\"sseqid\"], color=value_dic[\"TAXONOMY_phylum\"])\n",
    "\n",
    "def get_att(G, key):\n",
    "    GD = dict(G.nodes(data=True))\n",
    "    out = [GD[x][key] for x in GD.keys()]\n",
    "    del GD\n",
    "    return out\n",
    "\n",
    "# TODO pehaps choose different colors for nodes etc.\n",
    "color_dic = {\n",
    "    \"Bacteroidota\": \"#1f77b4\",  # Blue\n",
    "    \"Pseudomonadota\": \"#aec7e8\",  # Light blue\n",
    "    \"Bacillota\": \"#ff7f0e\",  # Orange\n",
    "    \"Actinomycetota\": \"#ffbb78\",  # Peach\n",
    "    \"Campylobacterota\": \"#2ca02c\",  # Green\n",
    "    \"Deinococcota\": \"#98df8a\",  # Light green\n",
    "    \"Nitrospirota\": \"#d62728\",  # Red\n",
    "    \"Planctomycetota\": \"#ff9896\",  # Light coral\n",
    "    \"Fusobacteriota\": \"#9467bd\",  # Purple\n",
    "    \"Rhodothermota\": \"#c5b0d5\",  # Lavender\n",
    "    \"Acidobacteriota\": \"#8c564b\",  # Brown\n",
    "    \"Thermodesulfobacteriota\": \"#c49c94\",  # Light brown\n",
    "    \"Verrucomicrobiota\": \"#e377c2\",  # Pink\n",
    "    'Cyanobacteriota':\"#48996f\",\n",
    "    \"black\": \"black\",\n",
    "    'Chloroflexota':\"#994896\",\n",
    "    'Mycoplasmatota':\"#91696f\",\n",
    "    'Chlorobiota':\"#69916c\",\n",
    "    np.nan: \"grey\",\n",
    "    '': \"grey\"\n",
    " }\n",
    "\n",
    "# Layout for network\n",
    "pos = nx.spring_layout(G, k=2*1/(np.sqrt(len(G.nodes)))) #TODO This one\n",
    "\n",
    "# Create a label plot\n",
    "fig, ax = plt.subplots()\n",
    "fig.set_dpi(1000)\n",
    "fig.set_size_inches(15,15)\n",
    "# Create dummy plot elements for the legend\n",
    "for label, color in color_dic.items():\n",
    "    ax.plot([], [], color=color, label=label)\n",
    "\n",
    "# Add a legend to the plot\n",
    "ax.legend(title=\"Phyla Colors\", loc=\"center left\", bbox_to_anchor=(1, 0.5))\n",
    "\n",
    "def get_att_edge(G, key):\n",
    "    GD = list(G.edges(data=True))\n",
    "    out = [x[2][key] for x in GD]\n",
    "    del GD\n",
    "    return out\n",
    "\n",
    "# draw the plot\n",
    "colors = [color_dic[x] for x in get_att(G, \"color\")] \n",
    "sizes = [x for x in get_att(G, \"size\")] \n",
    "edge_color_list_translated = [color_dic[x] for x in get_att_edge(G, \"color\")]\n",
    "nx.draw_networkx_nodes(G, pos, node_color=colors , node_size=sizes, alpha=get_att(G, \"alpha\"))\n",
    "nx.draw_networkx_edges(G, pos, alpha=0.2, edge_color=edge_color_list_translated)"
   ]
  },
  {
   "cell_type": "code",
   "execution_count": 63,
   "metadata": {},
   "outputs": [
    {
     "data": {
      "text/plain": [
       "0.017651821862348177"
      ]
     },
     "execution_count": 63,
     "metadata": {},
     "output_type": "execute_result"
    },
    {
     "data": {
      "image/png": "[encoded data removed]",
      "text/plain": [
       "<Figure size 640x480 with 1 Axes>"
      ]
     },
     "metadata": {},
     "output_type": "display_data"
    }
   ],
   "source": [
    "import seaborn as sns\n",
    "## Plotting the number of bins not mapping to something.. Given the thresholds\n",
    "bins_plotted = len(set(df_filtered.qseqid))\n",
    "bins_all = len(set(cluster_df.contigname))\n",
    "bins_not_plotted = bins_all - bins_plotted\n",
    "bins_not_plotted \n",
    "bins_plotted\n",
    "cluster_df\n",
    "sns.barplot(y=[bins_not_plotted, bins_plotted], x=[\"bins_not_plotted\", \"bins_plotted\"])\n",
    "# And calculating the percent\n",
    "bins_plotted/bins_all"
   ]
  }
 ],
 "metadata": {
  "kernelspec": {
   "display_name": "Python 3 (ipykernel)",
   "language": "python",
   "name": "python3"
  },
  "language_info": {
   "codemirror_mode": {
    "name": "ipython",
    "version": 3
   },
   "file_extension": ".py",
   "mimetype": "text/x-python",
   "name": "python",
   "nbconvert_exporter": "python",
   "pygments_lexer": "ipython3",
   "version": "3.12.7"
  }
 },
 "nbformat": 4,
 "nbformat_minor": 2
}
