{
 "cells": [
  {
   "cell_type": "code",
   "execution_count": 5,
   "metadata": {},
   "outputs": [
    {
     "data": {
      "text/plain": [
       "0        >S3CS18097D-03-11_S0_L001CNODE_15981_length_31...\n",
       "1        >S4CS18097D-03-12_S0_L001CNODE_6076_length_518...\n",
       "2        >S4CS18097D-03-12_S0_L001CNODE_19427_length_25...\n",
       "3        >S4CS18097D-03-12_S0_L001CNODE_19870_length_25...\n",
       "4        >S2CS18097D-03-07_S0_L001CNODE_20253_length_23...\n",
       "                               ...                        \n",
       "12345    >S2CS18097D-03-07_S0_L001CNODE_15144_length_27...\n",
       "12346    >S3CS18097D-03-11_S0_L001CNODE_18497_length_28...\n",
       "12347    >S3CS18097D-03-11_S0_L001CNODE_18826_length_28...\n",
       "12348    >S3CS18097D-03-11_S0_L001CNODE_28034_length_22...\n",
       "12349    >S4CS18097D-03-12_S0_L001CNODE_22945_length_23...\n",
       "Name: contigname, Length: 12350, dtype: object"
      ]
     },
     "execution_count": 5,
     "metadata": {},
     "output_type": "execute_result"
    }
   ],
   "source": [
    "def readfasta(filename):\n",
    "    '''Reading in several fasta files\n",
    "       yield each pair of header and dna seperate\n",
    "    '''\n",
    "    # Try to open the file, error if file does not exsist\n",
    "    try: file = open(filename, \"r\")\n",
    "    except FileNotFoundError as errormessage:\n",
    "        sys.exit(f\"The file '{filename}' could not be found, error: {errormessage}\")\n",
    "\n",
    "    # Extract the dna, and the headers.\n",
    "    oldheader = \"FIRST HEADER\"\n",
    "    for line in file:\n",
    "        line = line.strip()\n",
    "        #if line is header yield dna and header except FIRST HEADER\n",
    "        if line.startswith(\">\"):    \n",
    "            newheader = line\n",
    "            if oldheader != \"FIRST HEADER\":\n",
    "                yield dna, oldheader\n",
    "            dna = \"\"\n",
    "            oldheader = newheader\n",
    "        else:\n",
    "            dna += line\n",
    "    # Yield the last header and dna\n",
    "    yield dna, oldheader\n",
    "    file.close()\n",
    "    \n",
    "import pandas as pd                                                              \n",
    "import sys\n",
    "# Should only contain possible plasmids\n",
    "clusterfile = \"/home/bxc755/rasmussen/scratch/ptracker/plasmid_graph/data/vae_clusters_within_radius_with_looners_complete_unsplit_candidate_plasmids.tsv\" \n",
    "# clusterfile = sys.argv[0]\n",
    "df_plasmid = pd.read_table(clusterfile, sep=\"\\t\")                                             \n",
    "# len(df.contigname)\n",
    "df_plasmid = df_plasmid.assign(contigname = \">\" + df_plasmid.contigname)\n",
    "\n",
    "# All contigs\n",
    "fnafile = \"/home/bxc755/rasmussen/scratch/ptracker/plasmid_graph/data/contigs_darwin_sub.fna\"                           \n",
    "# fnafile = sys.argv[1]\n",
    "header2dna = {header: dna for dna, header in readfasta(fnafile)}\n",
    "\n",
    "# Filter for only containing plasmids\n",
    "# contigset = set(df.contigname)\n",
    "# header2dna_filtered = {header: dna for header, dna in header2dna.items() if header in contigset}\n",
    "#\n"
   ]
  },
  {
   "cell_type": "code",
   "execution_count": 53,
   "metadata": {},
   "outputs": [
    {
     "name": "stdout",
     "output_type": "stream",
     "text": [
      "Collecting click\n",
      "  Downloading click-8.1.7-py3-none-any.whl.metadata (3.0 kB)\n",
      "Downloading click-8.1.7-py3-none-any.whl (97 kB)\n",
      "Installing collected packages: click\n",
      "Successfully installed click-8.1.7\n"
     ]
    },
    {
     "ename": "FileExistsError",
     "evalue": "[Errno 17] File exists: 'candidate_plasmids'",
     "output_type": "error",
     "traceback": [
      "\u001b[0;31m---------------------------------------------------------------------------\u001b[0m",
      "\u001b[0;31mFileExistsError\u001b[0m                           Traceback (most recent call last)",
      "Cell \u001b[0;32mIn[53], line 54\u001b[0m\n\u001b[1;32m     51\u001b[0m plasmids \u001b[38;5;241m=\u001b[39m \u001b[38;5;28mset\u001b[39m(df_plasmid\u001b[38;5;241m.\u001b[39mcontigname)\n\u001b[1;32m     53\u001b[0m plasmid_dir \u001b[38;5;241m=\u001b[39m \u001b[38;5;124m\"\u001b[39m\u001b[38;5;124mcandidate_plasmids\u001b[39m\u001b[38;5;124m\"\u001b[39m\n\u001b[0;32m---> 54\u001b[0m os\u001b[38;5;241m.\u001b[39mmkdir(\u001b[38;5;124m\"\u001b[39m\u001b[38;5;124mcandidate_plasmids\u001b[39m\u001b[38;5;124m\"\u001b[39m)\n\u001b[1;32m     55\u001b[0m chromosome_dir \u001b[38;5;241m=\u001b[39m \u001b[38;5;124m\"\u001b[39m\u001b[38;5;124mcandidate_chromosomes\u001b[39m\u001b[38;5;124m\"\u001b[39m\n\u001b[1;32m     56\u001b[0m os\u001b[38;5;241m.\u001b[39mmkdir(\u001b[38;5;124m\"\u001b[39m\u001b[38;5;124mcandidate_chromosomes\u001b[39m\u001b[38;5;124m\"\u001b[39m)\n",
      "\u001b[0;31mFileExistsError\u001b[0m: [Errno 17] File exists: 'candidate_plasmids'"
     ]
    }
   ],
   "source": [
    "!pip install click\n",
    "import pandas as pd                                                              \n",
    "import sys\n",
    "import os\n",
    "\n",
    "def readfasta(filename):\n",
    "    '''Reading in several fasta files\n",
    "       yield each pair of header and dna seperate\n",
    "    '''\n",
    "    # Try to open the file, error if file does not exsist\n",
    "    try: file = open(filename, \"r\")\n",
    "    except FileNotFoundError as errormessage:\n",
    "        sys.exit(f\"The file '{filename}' could not be found, error: {errormessage}\")\n",
    "\n",
    "    # Extract the dna, and the headers.\n",
    "    oldheader = \"FIRST HEADER\"\n",
    "    for line in file:\n",
    "        line = line.strip()\n",
    "        #if line is header yield dna and header except FIRST HEADER\n",
    "        if line.startswith(\">\"):    \n",
    "            newheader = line\n",
    "            if oldheader != \"FIRST HEADER\":\n",
    "                yield dna, oldheader\n",
    "            dna = \"\"\n",
    "            oldheader = newheader\n",
    "        else:\n",
    "            dna += line\n",
    "    # Yield the last header and dna\n",
    "    yield dna, oldheader\n",
    "    file.close()\n",
    "\n",
    "# clusterfile = sys.argv[0]\n",
    "clusterfile_plasmid = \"/home/bxc755/rasmussen/scratch/ptracker/plasmid_graph/data/vae_clusters_within_radius_with_looners_complete_unsplit_candidate_plasmids.tsv\" \n",
    "clusterfile_chromosome = \"/home/bxc755/rasmussen/scratch/ptracker/plasmid_graph/data/vae_clusters_within_radius_with_looners_complete_unsplit_candidate_plasmids.tsv\" \n",
    "fasta_all_contigs = \"/home/bxc755/rasmussen/scratch/ptracker/plasmid_graph/data/contigs_darwin_sub.fna\"                           \n",
    "\n",
    "df_chromosome = pd.read_table(clusterfile_chromosome, sep=\"\\t\")                                             \n",
    "df_plasmid = pd.read_table(clusterfile_plasmid, sep=\"\\t\")                                             \n",
    "\n",
    "df_plasmid = df_plasmid.assign(contigname = \">\" + df_plasmid.contigname)\n",
    "df_chromosome = df_chromosome.assign(contigname = \">\" + df_chromosome.contigname)\n",
    "\n",
    "# Get the sum of the lengths of each contig in each bin\n",
    "df_chromosome = df_chromosome.assign(contig_length = df_chromosome.contigname.str.extract(r\"length_(\\d+)\").astype(\"int\"))\n",
    "df_chromosome[\"cluster_length\"] = df_chromosome.groupby(\"clustername\")[\"contig_length\"].transform(\"sum\")\n",
    "\n",
    "# Create 3 sets to filter fasta files later, containing different contigs\n",
    "t = 200_000\n",
    "chromosomes_above_t = set(df_chromosome.contigname[df_chromosome.cluster_length >= t])\n",
    "chromosomes_below_t = set(df_chromosome.contigname[df_chromosome.cluster_length < t])\n",
    "plasmids = set(df_plasmid.contigname)\n",
    "\n",
    "plasmid_dir = \"candidate_plasmids\"\n",
    "os.mkdir(\"candidate_plasmids\")\n",
    "chromosome_dir = \"candidate_chromosomes\"\n",
    "os.mkdir(\"candidate_chromosomes\")\n",
    "# Write to the split fastafiles\n",
    "with open(f'{plasmid_dir}/plasmids.fna', 'w') as plasmid_file, \\\n",
    "     open(f'{chromosome_dir}/chromosomes_candidate.fna', 'w') as chromosome_above_t, \\\n",
    "     open('chromosome_contigs_filtered_away.fna', 'w') as chromosome_below_t:\n",
    "    for dna, header in readfasta(fasta_all_contigs ):\n",
    "        if header in plasmids:\n",
    "                print(header, file=plasmid_file)\n",
    "                print(dna, file=plasmid_file)\n",
    "        elif header in chromosomes_above_t:\n",
    "                print(header, file=chromosomes_above_t)\n",
    "                print(dna, file=chromosomes_above_t)\n",
    "        elif header in chromosomes_below_t:\n",
    "                print(header, file=chromosomes_below_t)\n",
    "                print(dna, file=chromosomes_below_t)"
   ]
  },
  {
   "cell_type": "code",
   "execution_count": 38,
   "metadata": {},
   "outputs": [
    {
     "data": {
      "text/plain": [
       "4643"
      ]
     },
     "execution_count": 38,
     "metadata": {},
     "output_type": "execute_result"
    }
   ],
   "source": []
  }
 ],
 "metadata": {
  "kernelspec": {
   "display_name": "Python 3 (ipykernel)",
   "language": "python",
   "name": "python3"
  },
  "language_info": {
   "codemirror_mode": {
    "name": "ipython",
    "version": 3
   },
   "file_extension": ".py",
   "mimetype": "text/x-python",
   "name": "python",
   "nbconvert_exporter": "python",
   "pygments_lexer": "ipython3",
   "version": "3.12.7"
  }
 },
 "nbformat": 4,
 "nbformat_minor": 2
}
